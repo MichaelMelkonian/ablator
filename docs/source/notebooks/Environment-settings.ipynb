{
 "cells": [
  {
   "attachments": {},
   "cell_type": "markdown",
   "metadata": {},
   "source": [
    "# Setting up environment"
   ]
  },
  {
   "attachments": {},
   "cell_type": "markdown",
   "metadata": {},
   "source": [
    "## Installation\n",
    "\n",
    "### ablator package\n",
    "\n",
    "Use a python virtual enviroment to avoid version conflicts.\n",
    "`pip install git+https://github.com/fostiropoulos/ablator.git`\n",
    "\n",
    "For development:\n",
    "```\n",
    "git clone git@github.com:fostiropoulos/ablator.git\n",
    "cd ablator\n",
    "pip install -e .[dev]\n",
    "````\n",
    "Note: python version is expected to be >3.10"
   ]
  },
  {
   "attachments": {},
   "cell_type": "markdown",
   "metadata": {},
   "source": [
    "### ablator Prerequisites"
   ]
  },
  {
   "attachments": {},
   "cell_type": "markdown",
   "metadata": {},
   "source": [
    "#### GPU-Accelerated Computing (Optional)\n",
    "If you have GPUs available, you can run ablation experiments using GPU acceleration, which can significantly speed up the training process. To run CUDA Python, you’ll need the [CUDA Toolkit](https://developer.nvidia.com/cuda-downloads) installed on your system with CUDA-capable GPUs.\n",
    "\n",
    "After setting up CUDA, you can install the cuda-enabled torch package. The above `pip install .` only installs torch package without `cuda` enabled. Refer to [this tutorial](https://pytorch.org/get-started/locally/) for instructions on how to install cuda enabled package."
   ]
  },
  {
   "attachments": {},
   "cell_type": "markdown",
   "metadata": {},
   "source": [
    "#### Setting up ray cluster\n",
    "\n",
    "After installing `ablator`, `ray` packaged is included and ready to be used. For the multi-node setting, you must first run `ray start` on the command line to start the Ray cluster services on the machine before `ray.init` in Python to connect to the cluster services. On a single machine, you can run `ray.init()` without `ray start`, which will both start the Ray cluster services and connect to them.\n",
    "\n",
    "The following command starts a ray head node on a machine:\n",
    "```\n",
    "ray start --head --num-cpus=<NUM_CPUS> --num-gpus=<NUM_GPUS>\n",
    "```\n",
    "here, `num-cpus` and `num-gpus` (optional) is the amount of resource to assign to the node."
   ]
  }
 ],
 "metadata": {
  "language_info": {
   "name": "python"
  },
  "orig_nbformat": 4
 },
 "nbformat": 4,
 "nbformat_minor": 2
}
