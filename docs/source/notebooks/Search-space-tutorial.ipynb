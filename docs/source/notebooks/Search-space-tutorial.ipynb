{
 "cells": [
  {
   "attachments": {},
   "cell_type": "markdown",
   "metadata": {},
   "source": [
    "# Search Space Basics"
   ]
  },
  {
   "attachments": {},
   "cell_type": "markdown",
   "metadata": {},
   "source": [
    "* This chapter covers implementation of search space for hyper parameter optimization"
   ]
  },
  {
   "attachments": {},
   "cell_type": "markdown",
   "metadata": {},
   "source": [
    "The search space refers to the range of values that can be used to explore each hyperparameter during HPO."
   ]
  },
  {
   "attachments": {},
   "cell_type": "markdown",
   "metadata": {},
   "source": [
    "#### SearchSpace Class"
   ]
  },
  {
   "attachments": {},
   "cell_type": "markdown",
   "metadata": {},
   "source": [
    "Search space in ablator is implemented using the class ````SearchSpace````. \n",
    "\n",
    "Import ````SearchSpace```` using ````from ablator.main.configs import SearchSpace````.\n",
    "\n",
    "The class SearchSpace has three arguments: \n",
    " - ````value_range```` - Value range is for continous hyperparameters. The range is defined in the format: [lower_bound, upper_bound].\n",
    " - ````categorical_values```` - It is used for discrete hyperparameter. For example, categorical_values = [\"relu\", \"elu\"].\n",
    " - ````value_type```` - This defines the datatype of the hyperparameter. example: value_type = \"int\".  \n",
    " \n",
    " Categorical values does not require value type.\n"
   ]
  },
  {
   "cell_type": "code",
   "execution_count": 15,
   "metadata": {},
   "outputs": [],
   "source": [
    "search_space = SearchSpace(value_range=[0.05, 0.1], value_type=\"float\")\n",
    "search_space = SearchSpace(categorical_values=[\"relu\", \"elu\"])"
   ]
  },
  {
   "attachments": {},
   "cell_type": "markdown",
   "metadata": {},
   "source": [
    "#### Creating search space for hyperparameters."
   ]
  },
  {
   "attachments": {},
   "cell_type": "markdown",
   "metadata": {},
   "source": [
    "The goal of defining a search space in hyperparameter optimization (HPO) is to encapsulate the possible values and ranges of hyperparameters.\n",
    "\n",
    "We use a python dictionary, where key is hyperparameter and the value is the ````SearchSpace```` object."
   ]
  },
  {
   "attachments": {},
   "cell_type": "markdown",
   "metadata": {},
   "source": [
    "The key points to the hyperparameter in the config. For example, to explore the \"learning rate\", the key should be \"train_config.optimizer_config.arguments.lr\"."
   ]
  },
  {
   "cell_type": "code",
   "execution_count": 11,
   "metadata": {},
   "outputs": [],
   "source": [
    "search_space = {\n",
    "    \"train_config.optimizer_config.arguments.lr\": SearchSpace(\n",
    "        value_range=[0.05, 0.1], value_type=\"float\"\n",
    "    )\n",
    "}"
   ]
  },
  {
   "attachments": {},
   "cell_type": "markdown",
   "metadata": {},
   "source": [
    "We can provide SearchSpace \n",
    "- For configurations that ablator has already defined\n",
    "- For custom configs that are added by the users."
   ]
  },
  {
   "attachments": {},
   "cell_type": "markdown",
   "metadata": {},
   "source": [
    "#### Using SearchSpace with predefined Configs"
   ]
  },
  {
   "attachments": {},
   "cell_type": "markdown",
   "metadata": {},
   "source": [
    "* With optimizers\n",
    "\n",
    "The ablator provides three optimizers with its arguments. [SGD, Adam and AdamW]. All the optimizers have \"lr\" as the required parameter. \n",
    "\n",
    "Therefore, a ````SearchSpace```` for optimizers will look like this:"
   ]
  },
  {
   "cell_type": "code",
   "execution_count": null,
   "metadata": {},
   "outputs": [],
   "source": [
    "search_space = {\n",
    "    \"train_config.optimizer_config.name\": SearchSpace(\n",
    "        categorical_values=[\"sgd\", \"adam\", \"adamw\"]\n",
    "    ),\n",
    "}"
   ]
  },
  {
   "attachments": {},
   "cell_type": "markdown",
   "metadata": {},
   "source": [
    "Specifically for AdamW, the search space may be:"
   ]
  },
  {
   "cell_type": "code",
   "execution_count": null,
   "metadata": {},
   "outputs": [],
   "source": [
    "search_space = {\n",
    "    \"train_config.optimizer_config.arguments.eps\": SearchSpace(\n",
    "        value_range  = [1e-9, 1e-7],\n",
    "        value_type = \"float\"\n",
    "    ), \n",
    "    \"train_config.optimizer_config.arguments.weight_decay\": SearchSpace(\n",
    "        value_range  = [1e-4, 1e-3],\n",
    "        value_type = \"float\"\n",
    "    ),\n",
    "}"
   ]
  },
  {
   "attachments": {},
   "cell_type": "markdown",
   "metadata": {},
   "source": [
    "* With schedulers\n",
    "\n",
    "The ablator provides three schedulers [step, cycle and plataeu]. We can use the ````SearchSpace```` with schedulers with its arguments.\n",
    "\n",
    "For example a ````search_space```` for scheduler \"plataeu\" will look like:"
   ]
  },
  {
   "cell_type": "code",
   "execution_count": 12,
   "metadata": {},
   "outputs": [],
   "source": [
    "search_space = {\n",
    "    \"train_config.scheduler_config.arguments.min_lr\": SearchSpace(\n",
    "        value_range  = [1e-6, 1e-4],\n",
    "        value_type = \"float\"\n",
    "    ), \n",
    "    \"train_config.scheduler_config.arguments.mode\": SearchSpace(\n",
    "        categorical_values = [\"min\", \"max\", \"auto\"]\n",
    "    ),\n",
    "    \"train_config.scheduler_config.arguments.threshold\": SearchSpace(\n",
    "        value_range  = [1e-5, 1e-3],\n",
    "        value_type = \"float\"\n",
    "    ),\n",
    "}"
   ]
  },
  {
   "attachments": {},
   "cell_type": "markdown",
   "metadata": {},
   "source": [
    "We can also, provide ````SearchSpace```` to other parameters like epochs, batch_size etc. inside ````train_config````. "
   ]
  },
  {
   "attachments": {},
   "cell_type": "markdown",
   "metadata": {},
   "source": [
    "#### Using SearchSpace with Custom Configs"
   ]
  },
  {
   "attachments": {},
   "cell_type": "markdown",
   "metadata": {},
   "source": [
    "Suppose, a model config takes three inputs:\n",
    "\n",
    "````\n",
    "class CustomModelConfig(ModelConfig):\n",
    "    input_size :int\n",
    "    hidden_size :int\n",
    "    num_classes :int \n",
    "    ...\n",
    "````\n",
    "\n",
    "The ````model_config```` will be of the type ````CustomModelConfig````\n",
    "\n"
   ]
  },
  {
   "attachments": {},
   "cell_type": "markdown",
   "metadata": {},
   "source": [
    "We can provide search Space for model's hidden_size parameter."
   ]
  },
  {
   "cell_type": "code",
   "execution_count": null,
   "metadata": {},
   "outputs": [],
   "source": [
    "search_space = {\n",
    "    \"model_config.hidden_size\": SearchSpace(\n",
    "        value_range=[250, 500], value_type=\"int\"\n",
    "    ),\n",
    "}"
   ]
  },
  {
   "attachments": {},
   "cell_type": "markdown",
   "metadata": {},
   "source": [
    "Then, it can be passed to the ````CustomParallelConfig```` class for HPO. "
   ]
  },
  {
   "attachments": {},
   "cell_type": "markdown",
   "metadata": {},
   "source": [
    "````\n",
    "class CustomParallelConfig(ParallelConfig):\n",
    "    model_config: CustomModelConfig\n",
    "    search_space: search_space\n",
    "    ...\n",
    "````"
   ]
  },
  {
   "cell_type": "markdown",
   "metadata": {},
   "source": []
  }
 ],
 "metadata": {
  "kernelspec": {
   "display_name": "env",
   "language": "python",
   "name": "python3"
  },
  "language_info": {
   "codemirror_mode": {
    "name": "ipython",
    "version": 3
   },
   "file_extension": ".py",
   "mimetype": "text/x-python",
   "name": "python",
   "nbconvert_exporter": "python",
   "pygments_lexer": "ipython3",
   "version": "3.10.6"
  },
  "orig_nbformat": 4
 },
 "nbformat": 4,
 "nbformat_minor": 2
}
