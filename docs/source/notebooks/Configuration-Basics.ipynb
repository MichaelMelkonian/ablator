{
 "cells": [
  {
   "attachments": {},
   "cell_type": "markdown",
   "metadata": {},
   "source": [
    "# Configuration basics"
   ]
  },
  {
   "attachments": {},
   "cell_type": "markdown",
   "metadata": {},
   "source": [
    "ablator trainer requires wrapper and config (RunConfig) to launch experiment.\n",
    "\n",
    "- Training can either be done with a single process or ablation experiment (multiple, or distributed, processes)\n",
    "\n",
    "- Configuration is divided into different categories: model configs, running configs (either ordinary running configs or parallel training configs)"
   ]
  }
 ],
 "metadata": {
  "language_info": {
   "name": "python"
  },
  "orig_nbformat": 4
 },
 "nbformat": 4,
 "nbformat_minor": 2
}
