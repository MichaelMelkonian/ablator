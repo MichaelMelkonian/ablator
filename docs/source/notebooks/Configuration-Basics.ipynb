{
 "cells": [
  {
   "attachments": {},
   "cell_type": "markdown",
   "metadata": {},
   "source": [
    "# Configuration basics"
   ]
  },
  {
   "attachments": {},
   "cell_type": "markdown",
   "metadata": {},
   "source": [
    "ablator trainer requires wrapper and config (RunConfig) to launch experiment.\n",
    "\n",
    "- Training can either be done with a single process or ablation experiment (multiple, or distributed, processes)\n",
    "\n",
    "- Configuration is divided into different categories: model configs, running configs (either ordinary running configs or parallel training configs)"
   ]
  },
  {
   "attachments": {},
   "cell_type": "markdown",
   "metadata": {},
   "source": [
    "Ablator has the ability to dynamically create a hierarchical configuration by composition and override it through config files and the command line.\n",
    "\n",
    "Important configuration classes are presented below. Note that you can either store all these parameters in a yaml config file, or you can play around with classes. You can refer to (these examples)[] to see how these 2 cases are done in practice."
   ]
  },
  {
   "attachments": {},
   "cell_type": "markdown",
   "metadata": {},
   "source": [
    "## RunConfig\n",
    "This configuration class is passed as an argument when initializing the trainer object\n",
    "\n",
    "| Parameter           | Usage                                                                                                                                                                                                                                                                                                             |\n",
    "|---------------------|-------------------------------------------------------------------------------------------------------------------------------------------------------------------------------------------------------------------------------------------------------------------------------------------------------------------|\n",
    "| experiment_dir      | location to store experiment artifacts.                                                                                                                                                                                                                                                                           |\n",
    "| random_seed         | random seed.                                                                                                                                                                                                                                                                                                      |\n",
    "| train_config        | training configuration. (check ``TrainConfig`` for more details)                                                                                                                                                                                                                                                  |\n",
    "| model_config        | model configuration. (check ``ModelConfig`` for more details)                                                                                                                                                                                                                                                     |\n",
    "| keep_n_checkpoints  | number of latest checkpoints to keep.                                                                                                                                                                                                                                                                             |\n",
    "| tensorboard         | whether to use tensorboardLogger.                                                                                                                                                                                                                                                                                 |\n",
    "| amp                 | whether to use automatic mixed precision when running on gpu.                                                                                                                                                                                                                                                     |\n",
    "| device              | device to run on.                                                                                                                                                                                                                                                                                                 |\n",
    "| verbose             | verbosity level.                                                                                                                                                                                                                                                                                                  |\n",
    "| eval_subsample      | fraction of the dataset to use for evaluation.                                                                                                                                                                                                                                                                    |\n",
    "| metrics_n_batches   | max number of batches stored in every tag(train, eval, test) for evaluation.                                                                                                                                                                                                                                      |\n",
    "| metrics_mb_limit    | max number of megabytes stored in every tag(train, eval, test) for evaluation.                                                                                                                                                                                                                                    |\n",
    "| early_stopping_iter | The maximum allowed difference between the current iteration and the last iteration with the best metric before applying early stopping. Early stopping will be triggered if the difference ``(current_itr - best_itr)`` exceeds ``early_stopping_iter``. If set to ``None``, early stopping will not be applied. |\n",
    "| eval_epoch          | The epoch interval between two evaluations.                                                                                                                                                                                                                                                                       |\n",
    "| log_epoch           | The epoch interval between two logging.                                                                                                                                                                                                                                                                           |\n",
    "| init_chkpt          | path to a checkpoint to initialize the model with.                                                                                                                                                                                                                                                                |\n",
    "| warm_up_epochs      | number of epochs marked as warm up epochs.                                                                                                                                                                                                                                                                        |\n",
    "| divergence_factor   | if ``cur_loss > best_loss > divergence_factor``, the model is considered to have diverged.                                                                                                                                                                                                                        |"
   ]
  },
  {
   "attachments": {},
   "cell_type": "markdown",
   "metadata": {},
   "source": [
    "## ParallelConfig\n"
   ]
  },
  {
   "attachments": {},
   "cell_type": "markdown",
   "metadata": {},
   "source": [
    "## TrainConfig\n"
   ]
  },
  {
   "attachments": {},
   "cell_type": "markdown",
   "metadata": {},
   "source": [
    "## ModelConfig\n"
   ]
  },
  {
   "attachments": {},
   "cell_type": "markdown",
   "metadata": {},
   "source": [
    "## OptimizerConfig\n"
   ]
  },
  {
   "attachments": {},
   "cell_type": "markdown",
   "metadata": {},
   "source": [
    "## SchedulerConfig\n"
   ]
  }
 ],
 "metadata": {
  "language_info": {
   "name": "python"
  },
  "orig_nbformat": 4
 },
 "nbformat": 4,
 "nbformat_minor": 2
}
