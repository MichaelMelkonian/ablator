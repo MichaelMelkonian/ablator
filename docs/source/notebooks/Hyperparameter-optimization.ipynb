{
 "cells": [
  {
   "cell_type": "code",
   "execution_count": 5,
   "metadata": {},
   "outputs": [],
   "source": [
    "%%capture\n",
    "\n",
    "from ablator import ModelConfig, OptimizerConfig, TrainConfig, RunConfig, ParallelConfig\n",
    "from ablator import ModelWrapper, ProtoTrainer, Stateless, Derived, ParallelTrainer\n",
    "\n",
    "import torch\n",
    "import torch.nn as nn\n",
    "import torch.optim as optim\n",
    "from torch.utils.data import DataLoader, Dataset\n",
    "\n",
    "from sklearn.metrics import f1_score, accuracy_score\n",
    "\n",
    "import os\n",
    "import shutil"
   ]
  },
  {
   "cell_type": "code",
   "execution_count": 6,
   "metadata": {},
   "outputs": [],
   "source": [
    "search_space = {}\n",
    "\n",
    "model_config = ModelConfig()\n",
    "\n",
    "optimizer_config = OptimizerConfig(\n",
    "    name=\"adam\", \n",
    "    arguments={\"lr\": 0.001}\n",
    ")\n",
    "\n",
    "train_config = TrainConfig(\n",
    "    dataset=\"Fashion-mnist\",\n",
    "    batch_size=32,\n",
    "    epochs=10,\n",
    "    optimizer_config=optimizer_config,\n",
    "    scheduler_config=None,\n",
    "    rand_weights_init = True\n",
    ")\n",
    "\n",
    "# Random seed is used for generating same sequence of randomization every time.\n",
    "run_config = ParallelConfig(\n",
    "    train_config=train_config,\n",
    "    model_config=model_config,\n",
    "    metrics_n_batches = 800,\n",
    "    experiment_dir = \"/tmp/dir\",\n",
    "    device=\"cpu\",\n",
    "    amp=False,\n",
    "    random_seed = 42,\n",
    "     total_trials = 5,\n",
    "    concurrent_trials = 5,\n",
    "    search_space = search_space,\n",
    "    optim_metrics = {\"val_loss\": \"min\"},\n",
    "    gpu_mb_per_experiment = 1024,\n",
    "    cpus_per_experiment = 1,\n",
    ")"
   ]
  },
  {
   "cell_type": "code",
   "execution_count": 7,
   "metadata": {},
   "outputs": [],
   "source": [
    "%%capture\n",
    "\n",
    "import torch\n",
    "import torchvision\n",
    "import torchvision.transforms as transforms\n",
    "\n",
    "transform = transforms.ToTensor()\n",
    "\n",
    "train_dataset = torchvision.datasets.FashionMNIST(\n",
    "    root='./data',\n",
    "    train=True,\n",
    "    download=True,\n",
    "    transform=transform\n",
    ")\n",
    "\n",
    "test_dataset = torchvision.datasets.FashionMNIST(\n",
    "    root='./data',\n",
    "    train=False,\n",
    "    download=True,\n",
    "    transform=transform\n",
    ")\n",
    "\n",
    "\n",
    "train_dataloader = torch.utils.data.DataLoader(\n",
    "    train_dataset,\n",
    "    batch_size=32,\n",
    "    shuffle=True\n",
    ")\n",
    "\n",
    "test_dataloader = torch.utils.data.DataLoader(\n",
    "    test_dataset,\n",
    "    batch_size=32,\n",
    "    shuffle=False\n",
    ")\n"
   ]
  },
  {
   "cell_type": "code",
   "execution_count": 8,
   "metadata": {},
   "outputs": [],
   "source": [
    "# Define the model\n",
    "class FashionCNN(nn.Module):\n",
    "    def __init__(self):\n",
    "        super(FashionCNN, self).__init__()\n",
    "        self.conv1 = nn.Conv2d(1, 32, kernel_size=3, stride=1, padding=1)\n",
    "        self.relu1 = nn.ReLU()\n",
    "        self.maxpool1 = nn.MaxPool2d(kernel_size=2, stride=2)\n",
    "        self.conv2 = nn.Conv2d(32, 64, kernel_size=3, stride=1, padding=1)\n",
    "        self.relu2 = nn.ReLU()\n",
    "        self.maxpool2 = nn.MaxPool2d(kernel_size=2, stride=2)\n",
    "        self.conv3 = nn.Conv2d(64, 64, kernel_size=3, stride=1, padding=1)\n",
    "        self.relu3 = nn.ReLU()\n",
    "        self.flatten = nn.Flatten()\n",
    "        self.fc1 = nn.Linear(64 * 7 * 7, 64)\n",
    "        self.relu4 = nn.ReLU()\n",
    "        self.fc2 = nn.Linear(64, 10)\n",
    "\n",
    "    def forward(self, x):\n",
    "        x = self.conv1(x)\n",
    "        x = self.relu1(x)\n",
    "        x = self.maxpool1(x)\n",
    "        x = self.conv2(x)\n",
    "        x = self.relu2(x)\n",
    "        x = self.maxpool2(x)\n",
    "        x = self.conv3(x)\n",
    "        x = self.relu3(x)\n",
    "        x = self.flatten(x)\n",
    "        x = self.fc1(x)\n",
    "        x = self.relu4(x)\n",
    "        x = self.fc2(x)\n",
    "        return x\n",
    "\n",
    "model = FashionCNN()"
   ]
  },
  {
   "cell_type": "code",
   "execution_count": 10,
   "metadata": {},
   "outputs": [],
   "source": [
    "class MyModel(nn.Module):\n",
    "    def __init__(self, config: ModelConfig) -> None:\n",
    "        super().__init__()\n",
    "       \n",
    "        \n",
    "        self.model = model\n",
    "        self.loss = nn.CrossEntropyLoss()\n",
    "\n",
    "    def forward(self, x, labels=None):\n",
    "        out = self.model(x)\n",
    "        loss = None\n",
    "\n",
    "        if labels is not None:\n",
    "            loss = self.loss(out, labels)\n",
    "\n",
    "        out = out.argmax(dim=-1)\n",
    "\n",
    "        return {\"y_pred\": out, \"y_true\": labels}, loss"
   ]
  },
  {
   "cell_type": "code",
   "execution_count": 11,
   "metadata": {},
   "outputs": [],
   "source": [
    "def my_accuracy(y_true, y_pred):\n",
    "    return accuracy_score(y_true.flatten(), y_pred.flatten())\n",
    "\n",
    "def my_f1_score(y_true, y_pred):\n",
    "    return f1_score(y_true.flatten(), y_pred.flatten(), average='weighted')"
   ]
  },
  {
   "cell_type": "code",
   "execution_count": 12,
   "metadata": {},
   "outputs": [],
   "source": [
    "class MyModelWrapper(ModelWrapper):\n",
    "    def __init__(self, *args, **kwargs):\n",
    "        super().__init__(*args, **kwargs)\n",
    "\n",
    "    def make_dataloader_train(self, run_config: ParallelConfig):\n",
    "        return train_dataloader\n",
    "\n",
    "    def make_dataloader_val(self, run_config: ParallelConfig):\n",
    "        return test_dataloader\n",
    "\n",
    "    def evaluation_functions(self):\n",
    "        return {\n",
    "            \"accuracy\": my_accuracy,\n",
    "            \"f1_score\": my_f1_score\n",
    "            }"
   ]
  },
  {
   "cell_type": "code",
   "execution_count": 15,
   "metadata": {},
   "outputs": [
    {
     "name": "stderr",
     "output_type": "stream",
     "text": [
      "2023-06-15 14:24:49,154\tINFO worker.py:1352 -- Connecting to existing Ray cluster at address: 127.0.0.1:6379...\n",
      "2023-06-15 14:24:49,166\tINFO worker.py:1538 -- Connected to Ray cluster.\n"
     ]
    },
    {
     "data": {
      "text/html": [
       "<div>\n",
       "    <div style=\"margin-left: 50px;display: flex;flex-direction: row;align-items: center\">\n",
       "        <h3 style=\"color: var(--jp-ui-font-color0)\">Ray</h3>\n",
       "        <svg version=\"1.1\" id=\"ray\" width=\"3em\" viewBox=\"0 0 144.5 144.6\" style=\"margin-left: 3em;margin-right: 3em\">\n",
       "            <g id=\"layer-1\">\n",
       "                <path fill=\"#00a2e9\" class=\"st0\" d=\"M97.3,77.2c-3.8-1.1-6.2,0.9-8.3,5.1c-3.5,6.8-9.9,9.9-17.4,9.6S58,88.1,54.8,81.2c-1.4-3-3-4-6.3-4.1\n",
       "                    c-5.6-0.1-9.9,0.1-13.1,6.4c-3.8,7.6-13.6,10.2-21.8,7.6C5.2,88.4-0.4,80.5,0,71.7c0.1-8.4,5.7-15.8,13.8-18.2\n",
       "                    c8.4-2.6,17.5,0.7,22.3,8c1.3,1.9,1.3,5.2,3.6,5.6c3.9,0.6,8,0.2,12,0.2c1.8,0,1.9-1.6,2.4-2.8c3.5-7.8,9.7-11.8,18-11.9\n",
       "                    c8.2-0.1,14.4,3.9,17.8,11.4c1.3,2.8,2.9,3.6,5.7,3.3c1-0.1,2,0.1,3,0c2.8-0.5,6.4,1.7,8.1-2.7s-2.3-5.5-4.1-7.5\n",
       "                    c-5.1-5.7-10.9-10.8-16.1-16.3C84,38,81.9,37.1,78,38.3C66.7,42,56.2,35.7,53,24.1C50.3,14,57.3,2.8,67.7,0.5\n",
       "                    C78.4-2,89,4.7,91.5,15.3c0.1,0.3,0.1,0.5,0.2,0.8c0.7,3.4,0.7,6.9-0.8,9.8c-1.7,3.2-0.8,5,1.5,7.2c6.7,6.5,13.3,13,19.8,19.7\n",
       "                    c1.8,1.8,3,2.1,5.5,1.2c9.1-3.4,17.9-0.6,23.4,7c4.8,6.9,4.6,16.1-0.4,22.9c-5.4,7.2-14.2,9.9-23.1,6.5c-2.3-0.9-3.5-0.6-5.1,1.1\n",
       "                    c-6.7,6.9-13.6,13.7-20.5,20.4c-1.8,1.8-2.5,3.2-1.4,5.9c3.5,8.7,0.3,18.6-7.7,23.6c-7.9,5-18.2,3.8-24.8-2.9\n",
       "                    c-6.4-6.4-7.4-16.2-2.5-24.3c4.9-7.8,14.5-11,23.1-7.8c3,1.1,4.7,0.5,6.9-1.7C91.7,98.4,98,92.3,104.2,86c1.6-1.6,4.1-2.7,2.6-6.2\n",
       "                    c-1.4-3.3-3.8-2.5-6.2-2.6C99.8,77.2,98.9,77.2,97.3,77.2z M72.1,29.7c5.5,0.1,9.9-4.3,10-9.8c0-0.1,0-0.2,0-0.3\n",
       "                    C81.8,14,77,9.8,71.5,10.2c-5,0.3-9,4.2-9.3,9.2c-0.2,5.5,4,10.1,9.5,10.3C71.8,29.7,72,29.7,72.1,29.7z M72.3,62.3\n",
       "                    c-5.4-0.1-9.9,4.2-10.1,9.7c0,0.2,0,0.3,0,0.5c0.2,5.4,4.5,9.7,9.9,10c5.1,0.1,9.9-4.7,10.1-9.8c0.2-5.5-4-10-9.5-10.3\n",
       "                    C72.6,62.3,72.4,62.3,72.3,62.3z M115,72.5c0.1,5.4,4.5,9.7,9.8,9.9c5.6-0.2,10-4.8,10-10.4c-0.2-5.4-4.6-9.7-10-9.7\n",
       "                    c-5.3-0.1-9.8,4.2-9.9,9.5C115,72.1,115,72.3,115,72.5z M19.5,62.3c-5.4,0.1-9.8,4.4-10,9.8c-0.1,5.1,5.2,10.4,10.2,10.3\n",
       "                    c5.6-0.2,10-4.9,9.8-10.5c-0.1-5.4-4.5-9.7-9.9-9.6C19.6,62.3,19.5,62.3,19.5,62.3z M71.8,134.6c5.9,0.2,10.3-3.9,10.4-9.6\n",
       "                    c0.5-5.5-3.6-10.4-9.1-10.8c-5.5-0.5-10.4,3.6-10.8,9.1c0,0.5,0,0.9,0,1.4c-0.2,5.3,4,9.8,9.3,10\n",
       "                    C71.6,134.6,71.7,134.6,71.8,134.6z\"/>\n",
       "            </g>\n",
       "        </svg>\n",
       "        <table>\n",
       "            <tr>\n",
       "                <td style=\"text-align: left\"><b>Python version:</b></td>\n",
       "                <td style=\"text-align: left\"><b>3.10.6</b></td>\n",
       "            </tr>\n",
       "            <tr>\n",
       "                <td style=\"text-align: left\"><b>Ray version:</b></td>\n",
       "                <td style=\"text-align: left\"><b> 2.2.0</b></td>\n",
       "            </tr>\n",
       "            \n",
       "        </table>\n",
       "    </div>\n",
       "</div>\n"
      ],
      "text/plain": [
       "RayContext(dashboard_url='', python_version='3.10.6', ray_version='2.2.0', ray_commit='b6af0887ee5f2e460202133791ad941a41f15beb', address_info={'node_ip_address': '127.0.0.1', 'raylet_ip_address': '127.0.0.1', 'redis_address': None, 'object_store_address': 'tcp://127.0.0.1:58757', 'raylet_socket_name': 'tcp://127.0.0.1:59463', 'webui_url': '', 'session_dir': 'C:\\\\Users\\\\user\\\\AppData\\\\Local\\\\Temp\\\\ray\\\\session_2023-06-15_14-23-13_438551_5444', 'metrics_export_port': 64536, 'gcs_address': '127.0.0.1:6379', 'address': '127.0.0.1:6379', 'dashboard_agent_listen_port': 52365, 'node_id': '9c59899ea2b743c7ae97459235ab596e16374afc15d7b78c284d833f'})"
      ]
     },
     "execution_count": 15,
     "metadata": {},
     "output_type": "execute_result"
    }
   ],
   "source": [
    "import ray\n",
    "ray.shutdown()\n",
    "ray.init(address= \"auto\")"
   ]
  },
  {
   "cell_type": "code",
   "execution_count": 16,
   "metadata": {},
   "outputs": [
    {
     "name": "stdout",
     "output_type": "stream",
     "text": [
      "2023-06-15 14:24:50: Model directory: None\n",
      "2023-06-15 14:24:50: Creating new model\n",
      "2023-06-15 14:24:50: Model directory: \\tmp\\dir\\1901_9991\n",
      "2023-06-15 14:24:50: Creating new model\n"
     ]
    },
    {
     "name": "stderr",
     "output_type": "stream",
     "text": [
      "NaN or Inf found in input tensor.\n",
      "NaN or Inf found in input tensor.\n",
      "NaN or Inf found in input tensor.\n",
      "NaN or Inf found in input tensor.\n"
     ]
    },
    {
     "name": "stdout",
     "output_type": "stream",
     "text": [
      "2023-06-15 14:25:43: train_loss: 0.5935131708661715 val_loss: nan train_accuracy: 0.8591796875 train_f1_score: 0.8584602402259235 val_accuracy: nan val_f1_score: nan best_iteration: 0 best_loss: inf current_epoch: 1 current_iteration: 1875 epochs: 10 learning_rate: 0.001 total_steps: 18750\n",
      "2023-06-15 14:25:48: Evaluation Step [1] train_loss: 0.5935131708661715 val_loss: 0.39709614907590723 train_accuracy: 0.8591796875 train_f1_score: 0.8584602402259235 val_accuracy: 0.8633 val_f1_score: 0.8553333168743856 best_iteration: 0 best_loss: inf current_epoch: 1 current_iteration: 1875 epochs: 10 learning_rate: 0.001 total_steps: 18750\n",
      "2023-06-15 14:26:44: train_loss: 0.3267411854684353 val_loss: 0.39709614907590723 train_accuracy: 0.8726367187499999 train_f1_score: 0.8719878031317008 val_accuracy: 0.8633 val_f1_score: 0.8553333168743856 best_iteration: 1875 best_loss: 0.39709614907590723 current_epoch: 2 current_iteration: 3750 epochs: 10 learning_rate: 0.001 total_steps: 18750\n",
      "2023-06-15 14:26:49: Evaluation Step [2] train_loss: 0.3267411854684353 val_loss: 0.36911484975808156 train_accuracy: 0.8726367187499999 train_f1_score: 0.8719878031317008 val_accuracy: 0.87235 val_f1_score: 0.8682603273888679 best_iteration: 1875 best_loss: 0.39709614907590723 current_epoch: 2 current_iteration: 3750 epochs: 10 learning_rate: 0.001 total_steps: 18750\n",
      "2023-06-15 14:27:46: train_loss: 0.2875016932149728 val_loss: 0.36911484975808156 train_accuracy: 0.8813802083333333 train_f1_score: 0.880799930744861 val_accuracy: 0.87235 val_f1_score: 0.8682603273888679 best_iteration: 3750 best_loss: 0.36911484975808156 current_epoch: 3 current_iteration: 5625 epochs: 10 learning_rate: 0.001 total_steps: 18750\n",
      "2023-06-15 14:27:51: Evaluation Step [3] train_loss: 0.2875016932149728 val_loss: 0.3541090828431046 train_accuracy: 0.8813802083333333 train_f1_score: 0.880799930744861 val_accuracy: 0.8774000000000001 val_f1_score: 0.8741629221386176 best_iteration: 3750 best_loss: 0.36911484975808156 current_epoch: 3 current_iteration: 5625 epochs: 10 learning_rate: 0.001 total_steps: 18750\n",
      "2023-06-15 14:28:50: train_loss: 0.26610969689091046 val_loss: 0.3541090828431046 train_accuracy: 0.88662109375 train_f1_score: 0.8860923601884102 val_accuracy: 0.8774000000000001 val_f1_score: 0.8741629221386176 best_iteration: 5625 best_loss: 0.3541090828431046 current_epoch: 4 current_iteration: 7500 epochs: 10 learning_rate: 0.001 total_steps: 18750\n",
      "2023-06-15 14:28:55: Evaluation Step [4] train_loss: 0.26610969689091046 val_loss: 0.34778084417808053 train_accuracy: 0.88662109375 train_f1_score: 0.8860923601884102 val_accuracy: 0.88025 val_f1_score: 0.8778095097283002 best_iteration: 5625 best_loss: 0.3541090828431046 current_epoch: 4 current_iteration: 7500 epochs: 10 learning_rate: 0.001 total_steps: 18750\n",
      "2023-06-15 14:29:55: train_loss: 0.25120919682383536 val_loss: 0.34778084417808053 train_accuracy: 0.8908515625 train_f1_score: 0.8903887591858665 val_accuracy: 0.88025 val_f1_score: 0.8778095097283002 best_iteration: 7500 best_loss: 0.34778084417808053 current_epoch: 5 current_iteration: 9375 epochs: 10 learning_rate: 0.001 total_steps: 18750\n",
      "2023-06-15 14:29:59: Evaluation Step [5] train_loss: 0.25120919682383536 val_loss: 0.3373610301954916 train_accuracy: 0.8908515625 train_f1_score: 0.8903887591858665 val_accuracy: 0.88394 val_f1_score: 0.8819753294852244 best_iteration: 7500 best_loss: 0.34778084417808053 current_epoch: 5 current_iteration: 9375 epochs: 10 learning_rate: 0.001 total_steps: 18750\n",
      "2023-06-15 14:30:58: train_loss: 0.23860031240979832 val_loss: 0.3373610301954916 train_accuracy: 0.89501953125 train_f1_score: 0.8945988721667771 val_accuracy: 0.88394 val_f1_score: 0.8819753294852244 best_iteration: 9375 best_loss: 0.3373610301954916 current_epoch: 6 current_iteration: 11250 epochs: 10 learning_rate: 0.001 total_steps: 18750\n",
      "2023-06-15 14:31:03: Evaluation Step [6] train_loss: 0.23860031240979832 val_loss: 0.33460632452219724 train_accuracy: 0.89501953125 train_f1_score: 0.8945988721667771 val_accuracy: 0.8852666666666665 val_f1_score: 0.883542486826027 best_iteration: 9375 best_loss: 0.3373610301954916 current_epoch: 6 current_iteration: 11250 epochs: 10 learning_rate: 0.001 total_steps: 18750\n",
      "2023-06-15 14:32:06: train_loss: 0.23333786003341278 val_loss: 0.33460632452219724 train_accuracy: 0.8978459821428572 train_f1_score: 0.8974685161580425 val_accuracy: 0.8852666666666665 val_f1_score: 0.883542486826027 best_iteration: 11250 best_loss: 0.33460632452219724 current_epoch: 7 current_iteration: 13125 epochs: 10 learning_rate: 0.001 total_steps: 18750\n",
      "2023-06-15 14:32:12: Evaluation Step [7] train_loss: 0.23333786003341278 val_loss: 0.32102755007545153 train_accuracy: 0.8978459821428572 train_f1_score: 0.8974685161580425 val_accuracy: 0.8873999999999999 val_f1_score: 0.8858827530795769 best_iteration: 11250 best_loss: 0.33460632452219724 current_epoch: 7 current_iteration: 13125 epochs: 10 learning_rate: 0.001 total_steps: 18750\n",
      "2023-06-15 14:33:13: train_loss: 0.22824642069637777 val_loss: 0.32102755007545153 train_accuracy: 0.9002197265625 train_f1_score: 0.8998715321238924 val_accuracy: 0.8873999999999999 val_f1_score: 0.8858827530795769 best_iteration: 13125 best_loss: 0.32102755007545153 current_epoch: 8 current_iteration: 15000 epochs: 10 learning_rate: 0.001 total_steps: 18750\n",
      "2023-06-15 14:33:18: Evaluation Step [8] train_loss: 0.22824642069637777 val_loss: 0.31319344099511703 train_accuracy: 0.9002197265625 train_f1_score: 0.8998715321238924 val_accuracy: 0.889475 val_f1_score: 0.8880692925697367 best_iteration: 13125 best_loss: 0.32102755007545153 current_epoch: 8 current_iteration: 15000 epochs: 10 learning_rate: 0.001 total_steps: 18750\n",
      "2023-06-15 14:34:26: train_loss: 0.22181053119997182 val_loss: 0.31319344099511703 train_accuracy: 0.9023350694444444 train_f1_score: 0.9020029551123875 val_accuracy: 0.889475 val_f1_score: 0.8880692925697367 best_iteration: 15000 best_loss: 0.31319344099511703 current_epoch: 9 current_iteration: 16875 epochs: 10 learning_rate: 0.001 total_steps: 18750\n",
      "2023-06-15 14:34:31: Evaluation Step [9] train_loss: 0.22181053119997182 val_loss: 0.3088769910727938 train_accuracy: 0.9023350694444444 train_f1_score: 0.9020029551123875 val_accuracy: 0.8908666666666666 val_f1_score: 0.8895063235664842 best_iteration: 15000 best_loss: 0.31319344099511703 current_epoch: 9 current_iteration: 16875 epochs: 10 learning_rate: 0.001 total_steps: 18750\n",
      "2023-06-15 14:35:37: train_loss: 0.2203830037207653 val_loss: 0.3088769910727938 train_accuracy: 0.9040976562499999 train_f1_score: 0.9037793475708515 val_accuracy: 0.8908666666666666 val_f1_score: 0.8895063235664842 best_iteration: 16875 best_loss: 0.3088769910727938 current_epoch: 10 current_iteration: 18750 epochs: 10 learning_rate: 0.001 total_steps: 18750\n",
      "2023-06-15 14:35:42: Evaluation Step [10] train_loss: 0.2203830037207653 val_loss: 0.3100090770468116 train_accuracy: 0.9040976562499999 train_f1_score: 0.9037793475708515 val_accuracy: 0.89161 val_f1_score: 0.8903295183100386 best_iteration: 16875 best_loss: 0.3088769910727938 current_epoch: 10 current_iteration: 18750 epochs: 10 learning_rate: 0.001 total_steps: 18750\n"
     ]
    }
   ],
   "source": [
    "import os\n",
    "wrapper = MyModelWrapper(\n",
    "    model_class=MyModel,\n",
    ")\n",
    "\n",
    "ablator = ProtoTrainer(\n",
    "    wrapper=wrapper,\n",
    "    run_config=run_config,\n",
    ")\n",
    "metrics = ablator.launch()"
   ]
  }
 ],
 "metadata": {
  "kernelspec": {
   "display_name": "env",
   "language": "python",
   "name": "python3"
  },
  "language_info": {
   "codemirror_mode": {
    "name": "ipython",
    "version": 3
   },
   "file_extension": ".py",
   "mimetype": "text/x-python",
   "name": "python",
   "nbconvert_exporter": "python",
   "pygments_lexer": "ipython3",
   "version": "3.10.6"
  },
  "orig_nbformat": 4
 },
 "nbformat": 4,
 "nbformat_minor": 2
}
